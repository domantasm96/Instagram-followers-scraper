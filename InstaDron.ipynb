{
 "cells": [
  {
   "cell_type": "code",
   "execution_count": null,
   "metadata": {},
   "outputs": [],
   "source": [
    "### Info apie nuotraukas: user_info['edge_owner_to_timeline_media']['edges']"
   ]
  },
  {
   "cell_type": "code",
   "execution_count": null,
   "metadata": {},
   "outputs": [],
   "source": [
    "from selenium import webdriver\n",
    "from selenium.webdriver.support.ui import WebDriverWait \n",
    "import time\n",
    "import math\n",
    "from datetime import datetime\n",
    "from selenium.webdriver.chrome.options import Options\n",
    "import json\n",
    "import yaml\n",
    "import pandas as pd"
   ]
  },
  {
   "cell_type": "code",
   "execution_count": null,
   "metadata": {},
   "outputs": [],
   "source": [
    "from sqlalchemy import create_engine\n",
    "\n",
    "# Database credentials\n",
    "\n",
    "CONFIG_PATH = '/home/domantas/config.yml'\n",
    "conf = yaml.load(open(CONFIG_PATH))\n",
    "\n",
    "host = conf['mysql']['host']\n",
    "user = conf['mysql']['username']\n",
    "passwd = conf['mysql']['password']\n",
    "db = conf['mysql']['database']\n",
    "\n",
    "engine = create_engine(f\"mysql://{user}:{passwd}@{host}/{db}?charset=utf8mb4\")\n",
    "con = engine.connect()\n",
    "\n",
    "ig_username = conf['instagram']['username']\n",
    "ig_password = conf['instagram']['password']"
   ]
  },
  {
   "cell_type": "code",
   "execution_count": null,
   "metadata": {},
   "outputs": [],
   "source": [
    "def get_follow_info(obj):\n",
    "    fl_id = obj['id']\n",
    "    fl_username = obj['username']\n",
    "    fl_full_name = obj['full_name']\n",
    "    fl_profile_pic_url = obj['profile_pic_url']\n",
    "    fl_is_private = obj['is_private']\n",
    "    return {\n",
    "            'user_id': fl_id, 'username': fl_username, 'full_name': fl_full_name, 'profile_pic': fl_profile_pic_url,\n",
    "            'is_private': fl_is_private           \n",
    "            }"
   ]
  },
  {
   "cell_type": "markdown",
   "metadata": {},
   "source": [
    "# Login Operation"
   ]
  },
  {
   "cell_type": "code",
   "execution_count": null,
   "metadata": {},
   "outputs": [],
   "source": [
    "driver_path = \"/home/domantas/webdrivers/geckodriver\"\n",
    "user_agent = '--user-agent=Mozilla/5.0 (iPhone; CPU iPhone OS 10_3 like Mac OS X) AppleWebKit/602.1.50 (KHTML, like Gecko) CriOS/56.0.2924.75 Mobile/14E5239e Safari/602.1'\n",
    "\n",
    "profile = webdriver.FirefoxProfile()\n",
    "profile.set_preference(\"general.useragent.override\", user_agent)\n",
    "driver = webdriver.Firefox(executable_path=driver_path, firefox_profile=profile)\n",
    "driver.get('https://www.instagram.com/accounts/login/?source=auth_switcher')\n",
    "\n",
    "timeout = 5\n",
    "# Login\n",
    "WebDriverWait(driver, 10).until(lambda d: d.find_element_by_xpath(\"//input[@name='username']\"))\n",
    "username_elem = driver.find_element_by_xpath(\"//input[@name='username']\")\n",
    "username_elem.send_keys(ig_username)\n",
    "password_elem = driver.find_element_by_xpath(\"//input[@name='password']\")\n",
    "password_elem.send_keys(ig_password)\n",
    "try:\n",
    "    cookies = driver.find_element_by_xpath(\"//button[@class='aOOlW  bIiDR  ']\").click()\n",
    "except:\n",
    "    pass\n",
    "driver.find_element_by_xpath(\"//button[@type='submit']\").click()\n",
    "time.sleep(timeout)"
   ]
  },
  {
   "cell_type": "code",
   "execution_count": null,
   "metadata": {
    "scrolled": true
   },
   "outputs": [],
   "source": [
    "# Get info\n",
    "user = ''\n",
    "driver.get(f'https://www.instagram.com/{user}/')\n",
    "\n",
    "# Meta Info\n",
    "shared_data = driver.execute_script(\"return window._sharedData\")\n",
    "user_info = shared_data['entry_data']['ProfilePage'][0]['graphql']['user']\n",
    "\n",
    "biography = user_info['biography']\n",
    "public_profile = int(user_info['blocked_by_viewer'])\n",
    "fb_page = user_info['connected_fb_page'] if user_info['connected_fb_page'] is not None else ''\n",
    "follows_count = user_info['edge_follow']['count']\n",
    "followers_count = user_info['edge_followed_by']['count']\n",
    "posts = user_info['edge_owner_to_timeline_media']['count']\n",
    "full_name = user_info['full_name']\n",
    "is_business_account = int(user_info['is_business_account'])\n",
    "is_private = int(user_info['is_private'])\n",
    "user_profile_id = user_info['id']\n",
    "username = user_info['username']\n",
    "\n",
    "# user_data = {'biography': biography, 'public_profile': public_profile, 'fb_page': fb_page, 'full_name': full_name,\n",
    "#             'is_business_account': is_business_account, 'is_private': is_private, 'user_id': user_id, \n",
    "#              'username': username\n",
    "#             }\n",
    "user_data = [user_profile_id, biography, public_profile, fb_page, full_name, is_business_account, is_private, username]\n",
    "\n",
    "meta_date = datetime.now().strftime('%Y-%m-%d %H:%M:%S')\n",
    "\n",
    "end_cursor = shared_data['entry_data']['ProfilePage'][-1]['graphql']['user']['edge_owner_to_timeline_media']['page_info']['end_cursor']\n",
    "\n",
    "\n",
    "variables = {\"id\":user_profile_id,\"include_reel\":True,\"fetch_mutual\":False,\"first\":12,\"after\":end_cursor}\n",
    "query_hash = \"c76146de99bb02f6415203be841dd25a\"\n",
    "url = '''https://www.instagram.com/graphql/query/?query_hash={0}&variables={1}'''.format(query_hash, json.dumps(variables))\n",
    "\n",
    "r = driver.execute_script('''\n",
    "    var xmlHttp = new XMLHttpRequest();\n",
    "    var url = {};\n",
    "    xmlHttp.open( \"GET\", url, false);\n",
    "    xmlHttp.send(null);\n",
    "    return [xmlHttp.responseText, xmlHttp.status];\n",
    "'''.format(json.dumps(url))\n",
    ")\n",
    "response = r[0]\n",
    "status_code = r[1]\n",
    "d = json.loads(response)\n",
    "\n",
    "users_id = set()\n",
    "fl_data = []\n",
    "last_value = len(users_id)\n",
    "while len(users_id) < followers_count:\n",
    "    variables = {\"id\":user_profile_id,\"include_reel\":True,\"fetch_mutual\":False,\"first\":12,\"after\":end_cursor}\n",
    "    query_hash = \"c76146de99bb02f6415203be841dd25a\"\n",
    "    url = '''https://www.instagram.com/graphql/query/?query_hash={0}&variables={1}'''.format(query_hash, json.dumps(variables))\n",
    "\n",
    "    r = driver.execute_script('''\n",
    "        var xmlHttp = new XMLHttpRequest();\n",
    "        var url = {};\n",
    "        xmlHttp.open( \"GET\", url, false);\n",
    "        xmlHttp.send(null);\n",
    "        return [xmlHttp.responseText, xmlHttp.status];\n",
    "    '''.format(json.dumps(url))\n",
    "    )\n",
    "    response = r[0]\n",
    "    status_code = r[1]\n",
    "    d = json.loads(response)\n",
    "    for follower in d['data']['user']['edge_followed_by']['edges']:\n",
    "        if len(users_id) < followers_count:\n",
    "            followers_data = get_follow_info(follower['node'])\n",
    "            users_id.add(follower['node']['id'])\n",
    "            fl_data.append(followers_data)\n",
    "    \n",
    "    end_cursor = d['data']['user']['edge_followed_by']['page_info']['end_cursor']\n",
    "    if last_value != len(users_id):\n",
    "        last_value = len(users_id)\n",
    "    else:\n",
    "        break\n",
    "    print(status_code, len(users_id), followers_count)\n",
    "    \n",
    "# INSERT USER DATA\n",
    "try:\n",
    "    sql = '''INSERT INTO user_profile (user_id, biography, public_profile, fb_page, full_name, is_business_account, is_private, username)\n",
    "        VALUES {};\n",
    "    '''.format(tuple(user_data))\n",
    "    con.execute(sql)\n",
    "    print('User is succesfully added')\n",
    "except:\n",
    "    print('User_id already exists in db')"
   ]
  },
  {
   "cell_type": "markdown",
   "metadata": {},
   "source": [
    "# Inserting data to db"
   ]
  },
  {
   "cell_type": "markdown",
   "metadata": {},
   "source": [
    "### Update followers info\n",
    "<br> Tasks to do:\n",
    "<li> If is_private value set to 0, then make sure that it would exclude it from unfollowed list if that person is not following.\n",
    "<li> If person which unfollowed you follows again - make sure that status is updated"
   ]
  },
  {
   "cell_type": "code",
   "execution_count": null,
   "metadata": {},
   "outputs": [],
   "source": [
    "df_curr = pd.DataFrame(fl_data)\n",
    "df_sql = pd.read_sql_query(f'SELECT * from followers where user_profile_id = {user_profile_id};', con=con)  \n",
    "df_curr.is_private = df_curr.is_private.astype(int)\n",
    "df_curr['is_following'] = 1\n",
    "df_curr['user_profile_id'] = user_profile_id\n",
    "# df_curr.full_name = df_curr.full_name.str.encode('utf-8')\n",
    "columns = list(set(df_sql.columns) & set(df_curr.columns))\n",
    "\n",
    "df_mrg = df_sql[columns].merge(df_curr[columns], how='outer', on='user_id', indicator=True)\n",
    "unfollowed = df_mrg[(df_mrg._merge == 'left_only') & (df_mrg.is_following_x != 0)]['user_id'].to_list()\n",
    "new_followers = df_mrg[df_mrg._merge == 'right_only']['user_id'].to_list()\n",
    "\n",
    "#Adding new followers to db\n",
    "if len(new_followers):\n",
    "    print('Preparing to add new followers list')\n",
    "    df_nflwr = df_curr[df_curr.user_id.isin(new_followers)].copy()\n",
    "    df_nflwr['added_date'] = datetime.now().strftime('%Y-%m-%d %H:%m:%S')\n",
    "    df_nflwr[df_nflwr.user_id.isin(new_followers)].to_sql('followers', con, if_exists='append', index=False)\n",
    "    print('Followers list successfully added')\n",
    "# Change state of no longer followers list\n",
    "if len(unfollowed):\n",
    "    print('Preparing to change unfollowed user status')\n",
    "    sql = '''\n",
    "        UPDATE followers SET is_following = 0 where user_id IN {};\n",
    "    '''.format(str(tuple(unfollowed)).replace(',)', ')'))\n",
    "    con.execute(sql)\n",
    "    print('Unfollower status list successfully updated')"
   ]
  },
  {
   "cell_type": "markdown",
   "metadata": {},
   "source": [
    "### New followers"
   ]
  },
  {
   "cell_type": "code",
   "execution_count": null,
   "metadata": {},
   "outputs": [],
   "source": [
    "df_curr[df_curr.user_id.isin(new_followers)]"
   ]
  },
  {
   "cell_type": "markdown",
   "metadata": {},
   "source": [
    "### Unfollowed"
   ]
  },
  {
   "cell_type": "code",
   "execution_count": null,
   "metadata": {},
   "outputs": [],
   "source": [
    "df_sql[df_sql.user_id.isin(unfollowed)]"
   ]
  },
  {
   "cell_type": "markdown",
   "metadata": {},
   "source": [
    "### All followers list"
   ]
  },
  {
   "cell_type": "code",
   "execution_count": null,
   "metadata": {},
   "outputs": [],
   "source": [
    "df_curr"
   ]
  }
 ],
 "metadata": {
  "kernelspec": {
   "display_name": "Python 3",
   "language": "python",
   "name": "python3"
  },
  "language_info": {
   "codemirror_mode": {
    "name": "ipython",
    "version": 3
   },
   "file_extension": ".py",
   "mimetype": "text/x-python",
   "name": "python",
   "nbconvert_exporter": "python",
   "pygments_lexer": "ipython3",
   "version": "3.8.5"
  }
 },
 "nbformat": 4,
 "nbformat_minor": 4
}
